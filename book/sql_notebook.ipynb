{
 "cells": [
  {
   "cell_type": "markdown",
   "metadata": {
    "pycharm": {
     "name": "#%% md\n"
    }
   },
   "source": [
    "# Notebook SQL Editor\n",
    "\n",
    "Ibis is a great tool for abtracting SQL queries, and for more programmatic query generation. However, there are times when it is still useful to quickly test raw SQL. Fortunately, we can use an ibis connection and some display magics to accomplish this.\n",
    "\n",
    "First, we make the relevant imports:"
   ]
  },
  {
   "cell_type": "code",
   "execution_count": 1,
   "metadata": {
    "execution": {
     "iopub.execute_input": "2020-08-31T19:05:26.595157Z",
     "iopub.status.busy": "2020-08-31T19:05:26.594952Z",
     "iopub.status.idle": "2020-08-31T19:06:41.310344Z",
     "shell.execute_reply": "2020-08-31T19:06:41.309605Z",
     "shell.execute_reply.started": "2020-08-31T19:05:26.595135Z"
    },
    "pycharm": {
     "name": "#%%\n"
    }
   },
   "outputs": [],
   "source": [
    "import ibis\n",
    "import jupyterlab_heavyai"
   ]
  },
  {
   "cell_type": "markdown",
   "metadata": {
    "pycharm": {
     "name": "#%% md\n"
    }
   },
   "source": [
    "Now we make a connection to the database:"
   ]
  },
  {
   "cell_type": "code",
   "execution_count": 2,
   "metadata": {
    "execution": {
     "iopub.execute_input": "2020-08-31T19:06:55.238795Z",
     "iopub.status.busy": "2020-08-31T19:06:55.238608Z",
     "iopub.status.idle": "2020-08-31T19:06:58.503634Z",
     "shell.execute_reply": "2020-08-31T19:06:58.502741Z",
     "shell.execute_reply.started": "2020-08-31T19:06:55.238774Z"
    },
    "pycharm": {
     "name": "#%%\n"
    }
   },
   "outputs": [],
   "source": [
    "heavyai_cli = ibis.heavyai.connect(\n",
    "    host='localhost', user='admin', password='HyperInteractive',\n",
    "    database='heavyai'\n",
    ")"
   ]
  },
  {
   "cell_type": "markdown",
   "metadata": {
    "pycharm": {
     "name": "#%% md\n"
    }
   },
   "source": [
    "And verify that the connection worked"
   ]
  },
  {
   "cell_type": "code",
   "execution_count": 3,
   "metadata": {
    "execution": {
     "iopub.execute_input": "2020-08-31T19:06:59.606401Z",
     "iopub.status.busy": "2020-08-31T19:06:59.606156Z",
     "iopub.status.idle": "2020-08-31T19:07:00.968441Z",
     "shell.execute_reply": "2020-08-31T19:07:00.967836Z",
     "shell.execute_reply.started": "2020-08-31T19:06:59.606373Z"
    },
    "pycharm": {
     "name": "#%%\n"
    }
   },
   "outputs": [
    {
     "data": {
      "text/plain": [
       "['omnisci_states', 'omnisci_counties', 'omnisci_countries', 'flights_2008_10k']"
      ]
     },
     "execution_count": 3,
     "metadata": {},
     "output_type": "execute_result"
    }
   ],
   "source": [
    "heavyai_cli.list_tables()"
   ]
  },
  {
   "cell_type": "markdown",
   "metadata": {
    "pycharm": {
     "name": "#%% md\n"
    }
   },
   "source": [
    "Let's create a SQL editor from this client:"
   ]
  },
  {
   "cell_type": "code",
   "execution_count": 4,
   "metadata": {
    "execution": {
     "iopub.execute_input": "2020-08-31T19:07:00.969999Z",
     "iopub.status.busy": "2020-08-31T19:07:00.969792Z",
     "iopub.status.idle": "2020-08-31T19:07:00.974410Z",
     "shell.execute_reply": "2020-08-31T19:07:00.973706Z",
     "shell.execute_reply.started": "2020-08-31T19:07:00.969975Z"
    },
    "pycharm": {
     "name": "#%%\n"
    }
   },
   "outputs": [
    {
     "data": {
      "application/vnd.heavyai.sqleditor+json": {
       "connection": {
        "host": "localhost",
        "port": 6274,
        "protocol": "binary"
       },
       "query": "",
       "sessionId": "8Bf731br9WsRRCv7TTHMPTSNbNMjOkCg"
      },
      "text/plain": [
       "<jupyterlab_heavyai.magics.HeavyAISQLEditorRenderer at 0x14ee7a3b0>"
      ]
     },
     "execution_count": 4,
     "metadata": {},
     "output_type": "execute_result"
    }
   ],
   "source": [
    "jupyterlab_heavyai.HeavyAISQLEditorRenderer(heavyai_cli)"
   ]
  },
  {
   "cell_type": "markdown",
   "metadata": {
    "pycharm": {
     "name": "#%% md\n"
    }
   },
   "source": [
    "That gave us a blank canvas for getting data from the database. However, it can be nice to start from an ibis expression and then vary it from there. To do that, we can give an expression as the second argument for the `HeavyAISQLEditorRenderer`:"
   ]
  },
  {
   "cell_type": "code",
   "execution_count": 7,
   "metadata": {
    "execution": {
     "iopub.execute_input": "2020-08-31T19:07:03.062031Z",
     "iopub.status.busy": "2020-08-31T19:07:03.061662Z",
     "iopub.status.idle": "2020-08-31T19:07:06.123682Z",
     "shell.execute_reply": "2020-08-31T19:07:06.123170Z",
     "shell.execute_reply.started": "2020-08-31T19:07:03.062000Z"
    },
    "pycharm": {
     "name": "#%%\n"
    }
   },
   "outputs": [
    {
     "data": {
      "application/vnd.heavyai.sqleditor+json": {
       "connection": {
        "host": "localhost",
        "port": 6274,
        "protocol": "binary"
       },
       "query": "SELECT \"origin_merc_x\" AS x, \"origin_merc_y\" AS y, \"flightnum\" AS FN\nFROM flights_2008_10k",
       "sessionId": "8Bf731br9WsRRCv7TTHMPTSNbNMjOkCg"
      },
      "text/plain": [
       "<jupyterlab_heavyai.magics.HeavyAISQLEditorRenderer at 0x152063d90>"
      ]
     },
     "execution_count": 7,
     "metadata": {},
     "output_type": "execute_result"
    }
   ],
   "source": [
    "table = heavyai_cli.table('flights_2008_10k')\n",
    "expr = table[table.origin_merc_x.name('x'), table.origin_merc_y.name('y'), table.flightnum.name('FN')]\n",
    "\n",
    "jupyterlab_heavyai.HeavyAISQLEditorRenderer(heavyai_cli, expr)"
   ]
  },
  {
   "cell_type": "code",
   "execution_count": 8,
   "metadata": {
    "collapsed": false,
    "jupyter": {
     "outputs_hidden": false
    },
    "pycharm": {
     "name": "#%%\n"
    }
   },
   "outputs": [
    {
     "data": {
      "text/plain": [
       "<module 'jupyterlab_heavyai' from '/Users/tupui/Documents/Quansight/Code/jupyterlab-heavyai/jupyterlab_heavyai/__init__.py'>"
      ]
     },
     "execution_count": 8,
     "metadata": {},
     "output_type": "execute_result"
    }
   ],
   "source": [
    "jupyterlab_heavyai"
   ]
  },
  {
   "cell_type": "markdown",
   "metadata": {
    "execution": {
     "iopub.execute_input": "2020-08-31T18:47:29.553458Z",
     "iopub.status.busy": "2020-08-31T18:47:29.553275Z",
     "iopub.status.idle": "2020-08-31T18:47:29.696983Z",
     "shell.execute_reply": "2020-08-31T18:47:29.696418Z",
     "shell.execute_reply.started": "2020-08-31T18:47:29.553425Z"
    },
    "pycharm": {
     "name": "#%% md\n"
    }
   },
   "source": [
    "Since Jupyter Book cannot render this output, this is a screenshot of how it looks in JupyterLab:\n",
    "\n",
    "![](./notebook_editor.png)"
   ]
  },
  {
   "cell_type": "code",
   "execution_count": null,
   "metadata": {
    "pycharm": {
     "name": "#%%\n"
    }
   },
   "outputs": [],
   "source": []
  }
 ],
 "metadata": {
  "kernelspec": {
   "display_name": "Python 3 (ipykernel)",
   "language": "python",
   "name": "python3"
  },
  "language_info": {
   "codemirror_mode": {
    "name": "ipython",
    "version": 3
   },
   "file_extension": ".py",
   "mimetype": "text/x-python",
   "name": "python",
   "nbconvert_exporter": "python",
   "pygments_lexer": "ipython3",
   "version": "3.10.5"
  }
 },
 "nbformat": 4,
 "nbformat_minor": 4
}