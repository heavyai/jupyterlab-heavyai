{
 "cells": [
  {
   "cell_type": "markdown",
   "metadata": {},
   "source": [
    "# Notebook SQL Editor\n",
    "\n",
    "Ibis is a great tool for abtracting SQL queries, and for more programmatic query generation. However, there are times when it is still useful to quickly test raw SQL. Fortunately, we can use an ibis connection and some display magics to accomplish this.\n",
    "\n",
    "First, we make the relevant imports:"
   ]
  },
  {
   "cell_type": "code",
   "execution_count": 1,
   "metadata": {
    "execution": {
     "iopub.execute_input": "2020-08-31T19:05:26.595157Z",
     "iopub.status.busy": "2020-08-31T19:05:26.594952Z",
     "iopub.status.idle": "2020-08-31T19:06:41.310344Z",
     "shell.execute_reply": "2020-08-31T19:06:41.309605Z",
     "shell.execute_reply.started": "2020-08-31T19:05:26.595135Z"
    }
   },
   "outputs": [],
   "source": [
    "import ibis\n",
    "import jupyterlab_omnisci"
   ]
  },
  {
   "cell_type": "markdown",
   "metadata": {},
   "source": [
    "Now we make a connection to the database:"
   ]
  },
  {
   "cell_type": "code",
   "execution_count": 3,
   "metadata": {
    "execution": {
     "iopub.execute_input": "2020-08-31T19:06:55.238795Z",
     "iopub.status.busy": "2020-08-31T19:06:55.238608Z",
     "iopub.status.idle": "2020-08-31T19:06:58.503634Z",
     "shell.execute_reply": "2020-08-31T19:06:58.502741Z",
     "shell.execute_reply.started": "2020-08-31T19:06:55.238774Z"
    }
   },
   "outputs": [],
   "source": [
    "omnisci_cli = ibis.omniscidb.connect(\n",
    "    host='metis.mapd.com', user='mapd', password='HyperInteractive',\n",
    "    port=443, database='mapd', protocol= 'https'\n",
    ")"
   ]
  },
  {
   "cell_type": "markdown",
   "metadata": {},
   "source": [
    "And verify that the connection worked"
   ]
  },
  {
   "cell_type": "code",
   "execution_count": 4,
   "metadata": {
    "execution": {
     "iopub.execute_input": "2020-08-31T19:06:59.606401Z",
     "iopub.status.busy": "2020-08-31T19:06:59.606156Z",
     "iopub.status.idle": "2020-08-31T19:07:00.968441Z",
     "shell.execute_reply": "2020-08-31T19:07:00.967836Z",
     "shell.execute_reply.started": "2020-08-31T19:06:59.606373Z"
    }
   },
   "outputs": [
    {
     "data": {
      "text/plain": [
       "['flights_donotmodify',\n",
       " 'contributions_donotmodify',\n",
       " 'tweets_nov_feb',\n",
       " 'zipcodes_orig',\n",
       " 'zipcodes',\n",
       " 'demo_vote_clean',\n",
       " 'us_faults',\n",
       " 'zipcodes_2017',\n",
       " 'us_county_level_tiger_edges_2018',\n",
       " 'ca_roads_tiger',\n",
       " 'input_node',\n",
       " 'uk_wells',\n",
       " 'RentalListings']"
      ]
     },
     "execution_count": 4,
     "metadata": {},
     "output_type": "execute_result"
    }
   ],
   "source": [
    "omnisci_cli.list_tables()"
   ]
  },
  {
   "cell_type": "markdown",
   "metadata": {},
   "source": [
    "Let's create a SQL editor from this client:"
   ]
  },
  {
   "cell_type": "code",
   "execution_count": 5,
   "metadata": {
    "execution": {
     "iopub.execute_input": "2020-08-31T19:07:00.969999Z",
     "iopub.status.busy": "2020-08-31T19:07:00.969792Z",
     "iopub.status.idle": "2020-08-31T19:07:00.974410Z",
     "shell.execute_reply": "2020-08-31T19:07:00.973706Z",
     "shell.execute_reply.started": "2020-08-31T19:07:00.969975Z"
    }
   },
   "outputs": [
    {
     "data": {
      "application/vnd.omnisci.sqleditor+json": {
       "connection": {
        "host": "metis.mapd.com",
        "port": 443,
        "protocol": "https"
       },
       "query": "",
       "sessionId": "oq9bUsDv3HfYbl9jc6ykS20uiNdXJfGf"
      },
      "text/plain": [
       "<jupyterlab_omnisci.magics.OmniSciSQLEditorRenderer at 0x7fa828c674d0>"
      ]
     },
     "execution_count": 5,
     "metadata": {},
     "output_type": "execute_result"
    }
   ],
   "source": [
    "jupyterlab_omnisci.OmniSciSQLEditorRenderer(omnisci_cli)"
   ]
  },
  {
   "cell_type": "markdown",
   "metadata": {},
   "source": [
    "That gave us a blank canvas for getting data from the database. However, it can be nice to start from an ibis expreesion and then vary it from there. To do that, we can give an expression as the second argument for the `OmniSciSQLEditorRenderer`:"
   ]
  },
  {
   "cell_type": "code",
   "execution_count": 6,
   "metadata": {
    "execution": {
     "iopub.execute_input": "2020-08-31T19:07:03.062031Z",
     "iopub.status.busy": "2020-08-31T19:07:03.061662Z",
     "iopub.status.idle": "2020-08-31T19:07:06.123682Z",
     "shell.execute_reply": "2020-08-31T19:07:06.123170Z",
     "shell.execute_reply.started": "2020-08-31T19:07:03.062000Z"
    }
   },
   "outputs": [
    {
     "data": {
      "application/vnd.omnisci.sqleditor+json": {
       "connection": {
        "host": "metis.mapd.com",
        "port": 443,
        "protocol": "https"
       },
       "query": "SELECT \"goog_x\" AS x, \"goog_y\" AS y, \"tweet_id\" AS rowid\nFROM tweets_nov_feb",
       "sessionId": "oq9bUsDv3HfYbl9jc6ykS20uiNdXJfGf"
      },
      "text/plain": [
       "<jupyterlab_omnisci.magics.OmniSciSQLEditorRenderer at 0x7fa7c82bdcd0>"
      ]
     },
     "execution_count": 6,
     "metadata": {},
     "output_type": "execute_result"
    }
   ],
   "source": [
    "table = omnisci_cli.table('tweets_nov_feb')\n",
    "expr = table[table.goog_x.name('x'), table.goog_y.name('y'), table.tweet_id.name('rowid')]\n",
    "\n",
    "jupyterlab_omnisci.OmniSciSQLEditorRenderer(omnisci_cli, expr)"
   ]
  },
  {
   "cell_type": "markdown",
   "metadata": {
    "execution": {
     "iopub.execute_input": "2020-08-31T18:47:29.553458Z",
     "iopub.status.busy": "2020-08-31T18:47:29.553275Z",
     "iopub.status.idle": "2020-08-31T18:47:29.696983Z",
     "shell.execute_reply": "2020-08-31T18:47:29.696418Z",
     "shell.execute_reply.started": "2020-08-31T18:47:29.553425Z"
    }
   },
   "source": [
    "Since Jupyter Book cannot render this output, this is a screenshot of how it looks in JupyterLab:\n",
    "\n",
    "![](./notebook_editor.png)"
   ]
  },
  {
   "cell_type": "code",
   "execution_count": null,
   "metadata": {},
   "outputs": [],
   "source": []
  }
 ],
 "metadata": {
  "kernelspec": {
   "display_name": "Python 3",
   "language": "python",
   "name": "python3"
  },
  "language_info": {
   "codemirror_mode": {
    "name": "ipython",
    "version": 3
   },
   "file_extension": ".py",
   "mimetype": "text/x-python",
   "name": "python",
   "nbconvert_exporter": "python",
   "pygments_lexer": "ipython3",
   "version": "3.7.8"
  }
 },
 "nbformat": 4,
 "nbformat_minor": 4
}
