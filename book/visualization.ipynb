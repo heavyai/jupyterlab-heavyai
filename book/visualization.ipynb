{
 "cells": [
  {
   "cell_type": "markdown",
   "metadata": {
    "pycharm": {
     "name": "#%% md\n"
    }
   },
   "source": [
    "# Notebook Visualization\n",
    "\n",
    "This notebook demonstrates a number of ways to visualize HeavyAI data in a notebook.\n",
    "\n",
    "However **if you are looking to create interactive visualizations, please use the [`ibis-vega-transform`](https://github.com/quansight/ibis-vega-transform) package instead of these approaches**.\n"
   ]
  },
  {
   "cell_type": "markdown",
   "metadata": {
    "pycharm": {
     "name": "#%% md\n"
    }
   },
   "source": [
    "## Establishing a connection\n",
    "\n",
    "pymapd allows us to connect to a HeavyAI server using the following code:"
   ]
  },
  {
   "cell_type": "code",
   "execution_count": 1,
   "metadata": {
    "pycharm": {
     "name": "#%%\n"
    }
   },
   "outputs": [],
   "source": [
    "import heavyai\n",
    "import jupyterlab_heavyai\n",
    "connection_data = dict(\n",
    "    user='admin',\n",
    "    password='HyperInteractive',\n",
    "    host='localhost',\n",
    "    dbname='heavyai',\n",
    ")\n",
    "con = heavyai.connect(**connection_data)"
   ]
  },
  {
   "cell_type": "markdown",
   "metadata": {
    "pycharm": {
     "name": "#%% md\n"
    }
   },
   "source": [
    "Once we have a connection, we can try to send vega data to the backend and render it.\n",
    "Both the Jupyter notebook client (typically a browser), and the kernel (in this case\n",
    "a python process) have the ability to make this request. There are a number of different\n",
    "ways we can try to proceed in the notebook.\n",
    "\n",
    "## Generate vega in Python, request in the browser, render in notebook\n",
    "\n",
    "The following cell magic parses yaml data into JSON. This JSON is then sent *to the browser*,\n",
    "along with the relevant connection data. The browser then makes the request using\n",
    "the HeavyAI browser client, and renders the resulting image in the notebook:"
   ]
  },
  {
   "cell_type": "code",
   "execution_count": 2,
   "metadata": {
    "pycharm": {
     "name": "#%%\n"
    }
   },
   "outputs": [],
   "source": [
    "connection_data = dict(\n",
    "    username='admin',\n",
    "    password='HyperInteractive',\n",
    "    host='localhost',\n",
    "    database='heavyai',\n",
    ")"
   ]
  },
  {
   "cell_type": "code",
   "execution_count": 10,
   "metadata": {
    "pycharm": {
     "name": "#%%\n"
    }
   },
   "outputs": [
    {
     "data": {
      "application/vnd.heavyai.vega+json": {
       "connection": {
        "database": "heavyai",
        "host": "localhost",
        "password": "HyperInteractive",
        "username": "admin"
       },
       "sessionId": null,
       "vega": {
        "config": {
         "ticks": false
        },
        "data": [
         {
          "name": "flights",
          "sql": "SELECT origin_merc_x as x, origin_merc_y as y FROM flights_2008_10k"
         }
        ],
        "height": 564,
        "marks": [
         {
          "from": {
           "data": "flights"
          },
          "properties": {
           "fillColor": "green",
           "size": {
            "value": 1
           },
           "x": {
            "field": "x",
            "scale": "x"
           },
           "y": {
            "field": "y",
            "scale": "y"
           }
          },
          "type": "points"
         }
        ],
        "scales": [
         {
          "domain": [
           -3650484.1235206556,
           7413325.514451755
          ],
          "name": "x",
          "range": "width",
          "type": "linear"
         },
         {
          "domain": [
           -5778161.9183506705,
           1.0471808487466192E7
          ],
          "name": "y",
          "range": "height",
          "type": "linear"
         }
        ],
        "width": 384
       }
      },
      "text/plain": [
       "<jupyterlab_heavyai.magics.HeavyAIVegaRenderer at 0x108814760>"
      ]
     },
     "metadata": {},
     "output_type": "display_data"
    }
   ],
   "source": [
    "%%heavyai_vega $connection_data\n",
    "\n",
    "width: 384\n",
    "height: 564\n",
    "config:\n",
    "    ticks: false\n",
    "data:\n",
    "  - name: 'flights'\n",
    "    sql: 'SELECT origin_merc_x as x, origin_merc_y as y FROM flights_2008_10k' \n",
    "\n",
    "scales:\n",
    "  - name: 'x'\n",
    "    type: 'linear'\n",
    "    domain:\n",
    "      - -3650484.1235206556\n",
    "      -  7413325.514451755\n",
    "    range: 'width'\n",
    "  - name: 'y'\n",
    "    type: 'linear'\n",
    "    domain:\n",
    "      - -5778161.9183506705\n",
    "      -  10471808.487466192\n",
    "    range: 'height'\n",
    "marks:\n",
    "  - type: 'points'\n",
    "    from:\n",
    "      data: 'flights'\n",
    "    properties:\n",
    "      x:\n",
    "        scale: 'x'\n",
    "        field: 'x'\n",
    "      y:\n",
    "        scale: 'y'\n",
    "        field: 'y'\n",
    "      fillColor: 'green'\n",
    "      size:\n",
    "        value: 1      "
   ]
  },
  {
   "cell_type": "markdown",
   "metadata": {
    "pycharm": {
     "name": "#%% md\n"
    }
   },
   "source": [
    "You can also do the same but for vega lite, which will get translated to vega in the browser before being executed with the HeavyAI browser client"
   ]
  },
  {
   "cell_type": "code",
   "execution_count": 12,
   "metadata": {
    "pycharm": {
     "name": "#%%\n"
    }
   },
   "outputs": [
    {
     "data": {
      "application/vnd.heavyai.vega+json": {
       "connection": {
        "database": "heavyai",
        "host": "localhost",
        "password": "HyperInteractive",
        "username": "admin"
       },
       "sessionId": null,
       "vegaLite": {
        "data": {
         "sql": "SELECT origin_merc_x as x, origin_merc_y as y FROM flights_2008_10k"
        },
        "encoding": {
         "x": {
          "field": "x",
          "scale": {
           "domain": [
            -3650484.1235206556,
            7413325.514451755
           ],
           "range": "width"
          },
          "type": "quantitative"
         },
         "y": {
          "field": "y",
          "scale": {
           "domain": [
            -5778161.9183506705,
            1.0471808487466192E7
           ],
           "range": "height"
          },
          "type": "quantitative"
         }
        },
        "height": 564,
        "mark": {
         "color": "green",
         "size": 1,
         "type": "circle"
        },
        "width": 384
       }
      },
      "text/plain": [
       "<jupyterlab_heavyai.magics.HeavyAIVegaRenderer at 0x1552e65c0>"
      ]
     },
     "metadata": {},
     "output_type": "display_data"
    }
   ],
   "source": [
    "%%heavyai_vegalite $connection_data\n",
    "\n",
    "width: 384\n",
    "height: 564\n",
    "data:\n",
    "    sql: 'SELECT origin_merc_x as x, origin_merc_y as y FROM flights_2008_10k'\n",
    "mark:\n",
    "    type: circle\n",
    "    color: green\n",
    "    size: 1\n",
    "encoding:\n",
    "    x:\n",
    "        field: x\n",
    "        type: quantitative\n",
    "        scale:\n",
    "            range: width\n",
    "            domain:\n",
    "              - -3650484.1235206556\n",
    "              -  7413325.514451755\n",
    "    y:\n",
    "        field: y\n",
    "        type: quantitative\n",
    "        scale:\n",
    "            range: height\n",
    "            domain:\n",
    "              - -5778161.9183506705\n",
    "              -  10471808.487466192"
   ]
  },
  {
   "cell_type": "markdown",
   "metadata": {
    "pycharm": {
     "name": "#%% md\n"
    }
   },
   "source": [
    "## Write vega directly, request in the browser, render in notebook\n",
    "\n",
    "We don't necessarily need to use yaml as the input format. The following takes a JSON\n",
    "string and sends it to the browser, along with the connection data:"
   ]
  },
  {
   "cell_type": "code",
   "execution_count": 8,
   "metadata": {
    "execution": {
     "iopub.execute_input": "2020-08-31T19:11:52.327351Z",
     "iopub.status.busy": "2020-08-31T19:11:52.327109Z",
     "iopub.status.idle": "2020-08-31T19:11:52.331988Z",
     "shell.execute_reply": "2020-08-31T19:11:52.330921Z",
     "shell.execute_reply.started": "2020-08-31T19:11:52.327325Z"
    },
    "pycharm": {
     "name": "#%%\n"
    }
   },
   "outputs": [],
   "source": [
    "import json\n",
    "\n",
    "# TODO: Fix connection information and enable this\n",
    "\n",
    "connection_data = dict(\n",
    "    user='admin',\n",
    "    password='HyperInteractive',\n",
    "    host='localhost',\n",
    "    dbname='heavyai',\n",
    ")\n",
    "# con = heavyai.connect(**connection_data)\n",
    "\n",
    "# vega1 = \"\"\" {\n",
    "#   \"width\": 733,\n",
    "#   \"height\": 530,\n",
    "#   \"data\": [\n",
    "#     {\n",
    "#       \"name\": \"heatmap_query\",\n",
    "#       \"sql\": \"SELECT rect_pixel_bin(conv_4326_900913_x(lon), -13847031.457875465, -7451726.712679257, 733, 733) as x,\n",
    "#                      rect_pixel_bin(conv_4326_900913_y(lat), 2346114.147993467, 6970277.197053557, 530, 530) as y,\n",
    "#                      SUM(amount) as cnt\n",
    "#                      FROM fec_contributions_oct\n",
    "#                      WHERE (lon >= -124.39000000000038 AND lon <= -66.93999999999943) AND\n",
    "#                            (lat >= 20.61570573311549 AND lat <= 52.93117449504004) AND\n",
    "#                            amount > 0 AND\n",
    "#                            recipient_party = 'R'\n",
    "#                            GROUP BY x, y\"\n",
    "#     }\n",
    "#   ],\n",
    "#   \"scales\": [\n",
    "#     {\n",
    "#       \"name\": \"heat_color\",\n",
    "#       \"type\": \"quantize\",\n",
    "#       \"domain\": [\n",
    "#         10000.0,\n",
    "#         1000000.0\n",
    "#       ],\n",
    "#       \"range\": [ \"#0d0887\", \"#2a0593\", \"#41049d\", \"#5601a4\", \"#6a00a8\",\n",
    "#                  \"#7e03a8\", \"#8f0da4\", \"#a11b9b\", \"#b12a90\", \"#bf3984\",\n",
    "#                  \"#cb4679\", \"#d6556d\", \"#e16462\", \"#ea7457\", \"#f2844b\",\n",
    "#                  \"#f89540\", \"#fca636\", \"#feba2c\", \"#fcce25\", \"#f7e425\", \"#f0f921\"\n",
    "#       ],\n",
    "#       \"default\": \"#0d0887\",\n",
    "#       \"nullValue\": \"#0d0887\"\n",
    "#     }\n",
    "#   ],\n",
    "#   \"marks\": [\n",
    "#     {\n",
    "#       \"type\": \"symbol\",\n",
    "#       \"from\": {\n",
    "#         \"data\": \"heatmap_query\"\n",
    "#       },\n",
    "#       \"properties\": {\n",
    "#         \"shape\": \"square\",\n",
    "#         \"x\": {\n",
    "#           \"field\": \"x\"\n",
    "#         },\n",
    "#         \"y\": {\n",
    "#           \"field\": \"y\"\n",
    "#         },\n",
    "#         \"width\": 1,\n",
    "#         \"height\": 1,\n",
    "#         \"fillColor\": {\n",
    "#           \"scale\": \"heat_color\",\n",
    "#           \"field\": \"cnt\"\n",
    "#         }\n",
    "#       }\n",
    "#     }\n",
    "#   ]\n",
    "# }\"\"\".replace('\\n', '')\n",
    "# im = jupyterlab_heavyai.HeavyAIVegaRenderer(con, json.loads(vega1))\n",
    "# display(im)"
   ]
  },
  {
   "cell_type": "markdown",
   "metadata": {
    "pycharm": {
     "name": "#%% md\n"
    }
   },
   "source": [
    "## Requesting in Python\n",
    "\n",
    "Making the HeavyAI request in the browser has a major drawback, in that the image data is not\n",
    "easily available to the python kernel. Instead, we can make the request on the Python side:"
   ]
  },
  {
   "cell_type": "code",
   "execution_count": 9,
   "metadata": {
    "execution": {
     "iopub.execute_input": "2020-08-31T19:11:53.599698Z",
     "iopub.status.busy": "2020-08-31T19:11:53.599475Z",
     "iopub.status.idle": "2020-08-31T19:11:53.602252Z",
     "shell.execute_reply": "2020-08-31T19:11:53.601574Z",
     "shell.execute_reply.started": "2020-08-31T19:11:53.599672Z"
    },
    "pycharm": {
     "name": "#%%\n"
    }
   },
   "outputs": [],
   "source": [
    "# con.render_vega(vega1)"
   ]
  },
  {
   "cell_type": "code",
   "execution_count": null,
   "metadata": {
    "pycharm": {
     "name": "#%%\n"
    }
   },
   "outputs": [],
   "source": []
  }
 ],
 "metadata": {
  "kernelspec": {
   "display_name": "Python 3 (ipykernel)",
   "language": "python",
   "name": "python3"
  },
  "language_info": {
   "codemirror_mode": {
    "name": "ipython",
    "version": 3
   },
   "file_extension": ".py",
   "mimetype": "text/x-python",
   "name": "python",
   "nbconvert_exporter": "python",
   "pygments_lexer": "ipython3",
   "version": "3.10.5"
  }
 },
 "nbformat": 4,
 "nbformat_minor": 4
}