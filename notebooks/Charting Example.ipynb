{
 "cells": [
  {
   "cell_type": "markdown",
   "metadata": {
    "pycharm": {
     "name": "#%% md\n"
    }
   },
   "source": [
    "# MapD Charting Example with Altair\n",
    "\n",
    "Let's see if we can replicate [this](https://omnisci.github.io/mapd-charting/example/example1.html) MapD charting example in Python with Altair, Vega Lite, and Vega:\n",
    "\n",
    "![](https://cloud.githubusercontent.com/assets/2932405/25641647/1acce1f2-2f4a-11e7-87d4-a4e80cb262f5.gif)"
   ]
  },
  {
   "cell_type": "code",
   "execution_count": 1,
   "metadata": {
    "pycharm": {
     "name": "#%%\n"
    }
   },
   "outputs": [],
   "source": [
    "import altair as alt\n",
    "import ibis\n",
    "import ibis_vega_transform\n",
    "\n",
    "conn = ibis.heavyai.connect(\n",
    "    host='localhost', user='adin', password='HyperInteractive',\n",
    "    database='heavyai', protocol= 'https'\n",
    ")\n",
    "t = conn.table(\"flights_donotmodify\")"
   ]
  },
  {
   "cell_type": "code",
   "execution_count": 2,
   "metadata": {
    "pycharm": {
     "name": "#%%\n"
    }
   },
   "outputs": [
    {
     "data": {
      "application/vnd.vega.ibis.v5+json": {
       "span": {
        "uber-trace-id": "f4e046c902f5fd3a:5cf9629d88fb61f1:0:1"
       },
       "spec": {
        "$schema": "https://vega.github.io/schema/vega-lite/v4.0.0.json",
        "config": {
         "axis": {
          "grid": false
         },
         "view": {
          "continuousHeight": 300,
          "continuousWidth": 400,
          "strokeOpacity": 0
         }
        },
        "vconcat": [
         {
          "hconcat": [
           {
            "data": {
             "name": "ibis:1399930133233265712"
            },
            "encoding": {
             "text": {
              "aggregate": "count",
              "type": "quantitative"
             }
            },
            "mark": "text",
            "title": "Selected Rows",
            "transform": [
             {
              "filter": {
               "selection": "selector002"
              }
             },
             {
              "filter": {
               "selection": "selector003"
              }
             },
             {
              "filter": {
               "selection": "selector001"
              }
             }
            ]
           },
           {
            "data": {
             "name": "ibis:4149739518988188655"
            },
            "encoding": {
             "text": {
              "aggregate": "count",
              "type": "quantitative"
             }
            },
            "mark": "text",
            "title": "Total Rows"
           }
          ]
         },
         {
          "hconcat": [
           {
            "layer": [
             {
              "data": {
               "name": "ibis:5666293107167904297"
              },
              "encoding": {
               "color": {
                "condition": {
                 "selection": "selector001",
                 "value": "steelblue"
                },
                "value": "grey"
               },
               "x": {
                "aggregate": "count",
                "type": "quantitative"
               },
               "y": {
                "field": "origin_state",
                "sort": {
                 "encoding": "x",
                 "order": "descending"
                },
                "type": "nominal"
               }
              },
              "height": 533.3333333333334,
              "mark": "bar",
              "selection": {
               "selector001": {
                "fields": [
                 "origin_state"
                ],
                "type": "multi"
               }
              },
              "title": "Total Number of Flights by State",
              "transform": [
               {
                "filter": {
                 "selection": "selector002"
                }
               },
               {
                "filter": {
                 "selection": "selector003"
                }
               }
              ],
              "width": 500
             },
             {
              "data": {
               "name": "ibis:5666293107167904297"
              },
              "encoding": {
               "text": {
                "aggregate": "count",
                "type": "quantitative"
               },
               "x": {
                "aggregate": "count",
                "type": "quantitative"
               },
               "y": {
                "field": "origin_state",
                "sort": {
                 "encoding": "x",
                 "order": "descending"
                },
                "type": "nominal"
               }
              },
              "height": 533.3333333333334,
              "mark": {
               "dx": 20,
               "type": "text"
              },
              "transform": [
               {
                "filter": {
                 "selection": "selector002"
                }
               },
               {
                "filter": {
                 "selection": "selector003"
                }
               }
              ],
              "width": 500
             }
            ]
           },
           {
            "layer": [
             {
              "data": {
               "name": "ibis:7663228978757036959"
              },
              "encoding": {
               "color": {
                "condition": {
                 "selection": "selector002",
                 "value": "steelblue"
                },
                "value": "grey"
               },
               "tooltip": [
                {
                 "field": "carrier_name",
                 "type": "nominal"
                },
                {
                 "field": "depdelay",
                 "type": "quantitative"
                },
                {
                 "field": "arrdelay",
                 "type": "quantitative"
                }
               ],
               "x": {
                "field": "depdelay",
                "type": "quantitative"
               },
               "y": {
                "field": "arrdelay",
                "type": "quantitative"
               }
              },
              "height": 533.3333333333334,
              "mark": {
               "filled": true,
               "size": 200,
               "type": "point"
              },
              "selection": {
               "selector002": {
                "fields": [
                 "carrier_name"
                ],
                "type": "multi"
               }
              },
              "title": "Carrier Departure Delay by Arrival Delay (Minutes)",
              "transform": [
               {
                "filter": {
                 "selection": "selector001"
                }
               },
               {
                "filter": {
                 "selection": "selector003"
                }
               },
               {
                "aggregate": [
                 {
                  "as": "depdelay",
                  "field": "depdelay",
                  "op": "mean"
                 },
                 {
                  "as": "arrdelay",
                  "field": "arrdelay",
                  "op": "mean"
                 }
                ],
                "groupby": [
                 "carrier_name"
                ]
               }
              ],
              "width": 500
             },
             {
              "data": {
               "name": "ibis:7663228978757036959"
              },
              "encoding": {
               "text": {
                "field": "carrier_name",
                "type": "nominal"
               },
               "x": {
                "field": "depdelay",
                "type": "quantitative"
               },
               "y": {
                "field": "arrdelay",
                "type": "quantitative"
               }
              },
              "height": 533.3333333333334,
              "mark": "text",
              "transform": [
               {
                "filter": {
                 "selection": "selector001"
                }
               },
               {
                "filter": {
                 "selection": "selector003"
                }
               },
               {
                "aggregate": [
                 {
                  "as": "depdelay",
                  "field": "depdelay",
                  "op": "mean"
                 },
                 {
                  "as": "arrdelay",
                  "field": "arrdelay",
                  "op": "mean"
                 }
                ],
                "groupby": [
                 "carrier_name"
                ]
               }
              ],
              "width": 500
             }
            ]
           }
          ]
         },
         {
          "data": {
           "name": "ibis:1399930133233265712"
          },
          "encoding": {
           "x": {
            "field": "dep_timestamp",
            "timeUnit": "yearmonthdate",
            "type": "temporal"
           },
           "y": {
            "aggregate": "count",
            "scale": {
             "zero": false
            },
            "type": "quantitative"
           }
          },
          "height": 266.6666666666667,
          "mark": "line",
          "selection": {
           "selector003": {
            "encodings": [
             "x"
            ],
            "fields": [
             "dep_timestamp"
            ],
            "on": "[mousedown, window:mouseup] > window:mousemove!{0, 400}",
            "translate": "[mousedown, window:mouseup] > window:mousemove!{0, 400}",
            "type": "interval",
            "zoom": false
           }
          },
          "title": "Number of Flights by Departure Time",
          "transform": [
           {
            "filter": "datum.dep_timestamp != null"
           },
           {
            "filter": {
             "selection": "selector002"
            }
           },
           {
            "filter": {
             "selection": "selector001"
            }
           }
          ],
          "width": 1050
         }
        ]
       }
      },
      "text/plain": [
       "alt.VConcatChart(...)"
      ]
     },
     "execution_count": 2,
     "metadata": {},
     "output_type": "execute_result"
    }
   ],
   "source": [
    "states = alt.selection_multi(fields=['origin_state'])\n",
    "airlines = alt.selection_multi(fields=['carrier_name'])\n",
    "\n",
    "# Copy default from \n",
    "# https://github.com/vega/vega-lite/blob/8936751a75c3d3713b97a85b918fb30c35262faf/src/selection.ts#L281\n",
    "# but add debounce\n",
    "# https://vega.github.io/vega/docs/event-streams/#basic-selectors\n",
    "\n",
    "DEBOUNCE_MS = 400\n",
    "\n",
    "dates = alt.selection_interval(\n",
    "    fields=['dep_timestamp'],\n",
    "    encodings=['x'],\n",
    "    on=f'[mousedown, window:mouseup] > window:mousemove!{{0, {DEBOUNCE_MS}}}',\n",
    "    translate=f'[mousedown, window:mouseup] > window:mousemove!{{0, {DEBOUNCE_MS}}}',\n",
    "    zoom=False\n",
    ")\n",
    "\n",
    "HEIGHT = 800\n",
    "WIDTH = 1000\n",
    "\n",
    "count_filter = alt.Chart(\n",
    "    t[t.dep_timestamp, t.depdelay, t.origin_state, t.carrier_name],\n",
    "    title=\"Selected Rows\"\n",
    ").transform_filter(\n",
    "    airlines\n",
    ").transform_filter(\n",
    "    dates\n",
    ").transform_filter(\n",
    "    states\n",
    ").mark_text().encode(\n",
    "    text='count()'\n",
    ")\n",
    "\n",
    "count_total = alt.Chart(\n",
    "    t,\n",
    "    title=\"Total Rows\"\n",
    ").mark_text().encode(\n",
    "    text='count()'\n",
    ")\n",
    "\n",
    "flights_by_state = alt.Chart(\n",
    "    t[t.origin_state, t.carrier_name, t.dep_timestamp],\n",
    "    title=\"Total Number of Flights by State\"\n",
    ").transform_filter(\n",
    "    airlines\n",
    ").transform_filter(\n",
    "    dates\n",
    ").mark_bar().encode(\n",
    "    x='count()',\n",
    "    y=alt.Y('origin_state', sort=alt.Sort(encoding='x', order='descending')),\n",
    "    color=alt.condition(states, alt.ColorValue(\"steelblue\"), alt.ColorValue(\"grey\"))\n",
    ").add_selection(\n",
    "    states\n",
    ").properties(\n",
    "    height= 2 * HEIGHT / 3,\n",
    "    width=WIDTH / 2\n",
    ") + alt.Chart(\n",
    "    t[t.origin_state, t.carrier_name, t.dep_timestamp],\n",
    ").transform_filter(\n",
    "    airlines\n",
    ").transform_filter(\n",
    "    dates\n",
    ").mark_text(dx=20).encode(\n",
    "    x='count()',\n",
    "    y=alt.Y('origin_state', sort=alt.Sort(encoding='x', order='descending')),\n",
    "    text='count()'\n",
    ").properties(\n",
    "    height= 2 * HEIGHT / 3,\n",
    "    width=WIDTH / 2\n",
    ")\n",
    "\n",
    "carrier_delay = alt.Chart(\n",
    "    t[t.depdelay, t.arrdelay, t.carrier_name, t.origin_state, t.dep_timestamp],\n",
    "    title=\"Carrier Departure Delay by Arrival Delay (Minutes)\"\n",
    ").transform_filter(\n",
    "    states\n",
    ").transform_filter(\n",
    "    dates\n",
    ").transform_aggregate(\n",
    "    depdelay='mean(depdelay)',\n",
    "    arrdelay='mean(arrdelay)',\n",
    "    groupby=[\"carrier_name\"]\n",
    ").mark_point(filled=True, size=200).encode(\n",
    "    x='depdelay',\n",
    "    y='arrdelay',\n",
    "    color=alt.condition(airlines, alt.ColorValue(\"steelblue\"), alt.ColorValue(\"grey\")),\n",
    "    tooltip=['carrier_name', 'depdelay', 'arrdelay']\n",
    ").add_selection(\n",
    "    airlines\n",
    ").properties(\n",
    "    height=2 * HEIGHT / 3,\n",
    "    width=WIDTH / 2\n",
    ") + alt.Chart(\n",
    "    t[t.depdelay, t.arrdelay, t.carrier_name, t.origin_state, t.dep_timestamp],\n",
    ").transform_filter(\n",
    "    states\n",
    ").transform_filter(\n",
    "    dates\n",
    ").transform_aggregate(\n",
    "    depdelay='mean(depdelay)',\n",
    "    arrdelay='mean(arrdelay)',\n",
    "    groupby=[\"carrier_name\"]\n",
    ").mark_text().encode(\n",
    "    x='depdelay',\n",
    "    y='arrdelay',\n",
    "    text='carrier_name',\n",
    ").properties(\n",
    "    height=2 * HEIGHT / 3,\n",
    "    width=WIDTH / 2\n",
    ")\n",
    "\n",
    "time = alt.Chart(\n",
    "    t[t.dep_timestamp, t.depdelay, t.origin_state, t.carrier_name],\n",
    "    title='Number of Flights by Departure Time'\n",
    ").transform_filter(\n",
    "    'datum.dep_timestamp != null'\n",
    ").transform_filter(\n",
    "    airlines\n",
    ").transform_filter(\n",
    "    states\n",
    ").mark_line().encode(\n",
    "    alt.X(\n",
    "        'yearmonthdate(dep_timestamp):T',\n",
    "    ),\n",
    "    alt.Y(\n",
    "        'count():Q',\n",
    "        scale=alt.Scale(zero=False)\n",
    "    )\n",
    ").add_selection(\n",
    "    dates\n",
    ").properties(\n",
    "    height=HEIGHT / 3,\n",
    "    width=WIDTH + 50\n",
    ")\n",
    "\n",
    "(\n",
    "    (count_filter | count_total) & (flights_by_state | carrier_delay) & time\n",
    ").configure_axis(\n",
    "    grid=False\n",
    ").configure_view(\n",
    "    strokeOpacity=0\n",
    ")"
   ]
  },
  {
   "cell_type": "code",
   "execution_count": null,
   "metadata": {
    "pycharm": {
     "name": "#%%\n"
    }
   },
   "outputs": [],
   "source": []
  },
  {
   "cell_type": "code",
   "execution_count": null,
   "metadata": {
    "pycharm": {
     "name": "#%%\n"
    }
   },
   "outputs": [],
   "source": []
  }
 ],
 "metadata": {
  "kernelspec": {
   "display_name": "Python 3",
   "language": "python",
   "name": "python3"
  },
  "language_info": {
   "codemirror_mode": {
    "name": "ipython",
    "version": 3
   },
   "file_extension": ".py",
   "mimetype": "text/x-python",
   "name": "python",
   "nbconvert_exporter": "python",
   "pygments_lexer": "ipython3",
   "version": "3.7.6"
  }
 },
 "nbformat": 4,
 "nbformat_minor": 4
}