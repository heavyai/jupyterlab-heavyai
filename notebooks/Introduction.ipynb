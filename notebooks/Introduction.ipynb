{
 "cells": [
  {
   "cell_type": "markdown",
   "metadata": {},
   "source": [
    "## Creating Visualizations with JupyterLab Omnisci\n",
    "\n",
    "There are a variety of ways to create visualizations based on OmniSci data in JupyterLab.\n",
    "\n",
    "\n",
    "\n",
    "[`Renderers.ipynb`](./Renderers.ipynb): You can use [OmniSci's backend Vega rendering](https://www.omnisci.com/docs/latest/6_vegaTutorials.html)\n",
    "inside your notebooks with the `omnisci_vega` and `omnisci_vegalite` cell magics. You can also create an SQL editor to live query your Ibis table using the `omnisci_sqleditor` cell magic.\n",
    "\n",
    "[`Ibis + Altair + Extraction.ipynb`](./Ibis%20+%20Altair%20+%20Extraction.ipynb): If you like using [Altair](https://altair-viz.github.io/) to compose your visualizations, there are a couple of ways\n",
    "to integrate that with an OmniSci database. There is preliminary support for visualizations with aggregates in them (sum, groupby, etc)\n",
    "so that those aggregates are executed in the database and only the post aggregated data is sent to the browser\n",
    "\n",
    "\n",
    "[`Ibis + Altair.ipynb`](./Ibis%20+%20Altair.ipynb) Instead, if you would like to use OmniSci's builtin Vega rendering capabilities, you can tell have Altair defer to those."
   ]
  }
 ],
 "metadata": {
  "kernelspec": {
   "display_name": "Python 3",
   "language": "python",
   "name": "python3"
  },
  "language_info": {
   "codemirror_mode": {
    "name": "ipython",
    "version": 3
   },
   "file_extension": ".py",
   "mimetype": "text/x-python",
   "name": "python",
   "nbconvert_exporter": "python",
   "pygments_lexer": "ipython3",
   "version": "3.7.8"
  }
 },
 "nbformat": 4,
 "nbformat_minor": 4
}
